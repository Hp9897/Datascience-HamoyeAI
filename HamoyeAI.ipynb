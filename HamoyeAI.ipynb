{
  "nbformat": 4,
  "nbformat_minor": 0,
  "metadata": {
    "colab": {
      "name": "HamoyeAI.ipynb",
      "provenance": [],
      "collapsed_sections": [],
      "authorship_tag": "ABX9TyNt6fcJNx05gji+8J0nr3zg",
      "include_colab_link": true
    },
    "kernelspec": {
      "name": "python3",
      "display_name": "Python 3"
    },
    "language_info": {
      "name": "python"
    }
  },
  "cells": [
    {
      "cell_type": "markdown",
      "metadata": {
        "id": "view-in-github",
        "colab_type": "text"
      },
      "source": [
        "<a href=\"https://colab.research.google.com/github/Hp9897/Datascience-HamoyeAI/blob/main/HamoyeAI.ipynb\" target=\"_parent\"><img src=\"https://colab.research.google.com/assets/colab-badge.svg\" alt=\"Open In Colab\"/></a>"
      ]
    },
    {
      "cell_type": "code",
      "execution_count": 21,
      "metadata": {
        "colab": {
          "base_uri": "https://localhost:8080/"
        },
        "id": "laW6KXtkSBAq",
        "outputId": "0e5af153-2600-40b8-d6f2-3acdfd18485b"
      },
      "outputs": [
        {
          "output_type": "execute_result",
          "data": {
            "text/plain": [
              "Item\n",
              "Alcohol, Non-Food        2403.00\n",
              "Alcoholic Beverages    102410.11\n",
              "Animal Products         11935.65\n",
              "Animal fats            209460.54\n",
              "Apples and products      9499.23\n",
              "                         ...    \n",
              "Vegetables, Other      155038.96\n",
              "Vegetal Products       107145.19\n",
              "Wheat and products     232670.13\n",
              "Wine                     4497.36\n",
              "Yams                   200396.96\n",
              "Name: Y2014, Length: 119, dtype: float64"
            ]
          },
          "metadata": {},
          "execution_count": 21
        }
      ],
      "source": [
        "from matplotlib import pyplot as plt\n",
        "import pandas as pd\n",
        "import numpy as np\n",
        "\n",
        "url= \"https://github.com/HamoyeHQ/HDSC-Introduction-to-Python-for-machine-learning/files/7768140/FoodBalanceSheets_E_Africa_NOFLAG.csv\"\n",
        "food_data= pd.read_csv(url, sep=\",\",encoding = 'latin-1')\n",
        "food_data.describe(include= \"all\")\n",
        "#sum of Animal Fat produced in 2014 \n",
        "food_data.groupby('Item')['Y2014'].sum()\n",
        "\n",
        "\n"
      ]
    },
    {
      "cell_type": "code",
      "source": [
        "#sum of Animal Fat produced in 2017\n",
        "food_data.groupby('Item')['Y2017'].sum()"
      ],
      "metadata": {
        "colab": {
          "base_uri": "https://localhost:8080/"
        },
        "id": "NTKPfcEfhZMx",
        "outputId": "bb8a9f58-19be-4d6e-eafd-953e13884da8"
      },
      "execution_count": 22,
      "outputs": [
        {
          "output_type": "execute_result",
          "data": {
            "text/plain": [
              "Item\n",
              "Alcohol, Non-Food        2348.00\n",
              "Alcoholic Beverages     95581.06\n",
              "Animal Products         11547.65\n",
              "Animal fats            269617.53\n",
              "Apples and products     10198.90\n",
              "                         ...    \n",
              "Vegetables, Other      157752.59\n",
              "Vegetal Products       107655.20\n",
              "Wheat and products     240047.62\n",
              "Wine                     4178.02\n",
              "Yams                   229174.59\n",
              "Name: Y2017, Length: 119, dtype: float64"
            ]
          },
          "metadata": {},
          "execution_count": 22
        }
      ]
    },
    {
      "cell_type": "code",
      "source": [
        "# mean across the whole dataset for the year 2015 to 3 decimal places\n",
        "data1= food_data['Y2015'].mean()\n",
        "print(data1)"
      ],
      "metadata": {
        "colab": {
          "base_uri": "https://localhost:8080/"
        },
        "id": "eAsMoRYLhilp",
        "outputId": "c6a26c18-8f25-4985-f3ca-9b01766a7640"
      },
      "execution_count": 36,
      "outputs": [
        {
          "output_type": "stream",
          "name": "stdout",
          "text": [
            "135.23596649549236\n"
          ]
        }
      ]
    },
    {
      "cell_type": "code",
      "source": [
        "# mean across the whole dataset for the year 2015 to 3 decimal places\n",
        "data1= food_data['Y2015'].std()\n",
        "print(data1)"
      ],
      "metadata": {
        "colab": {
          "base_uri": "https://localhost:8080/"
        },
        "id": "aT-WCE8si_A2",
        "outputId": "e8406689-bfd8-4538-a149-3d3c61d3cb10"
      },
      "execution_count": 38,
      "outputs": [
        {
          "output_type": "stream",
          "name": "stdout",
          "text": [
            "1603.4039839423301\n"
          ]
        }
      ]
    },
    {
      "cell_type": "code",
      "source": [
        "# total number and percentage of missing data in 2016 to 2 decimal places\n",
        "percent_missing= food_data.isnull().sum()*100/ len(food_data)\n",
        "missing_data_df= pd.DataFrame({'col': 'Y2016','percent_missing': percent_missing})\n",
        "print(missing_data_df)\n",
        "\n",
        "\n",
        "\n",
        "\n"
      ],
      "metadata": {
        "colab": {
          "base_uri": "https://localhost:8080/"
        },
        "id": "8S-qmg-UmDTE",
        "outputId": "5459d848-cb6b-48d6-c9d8-33c2a5bb8752"
      },
      "execution_count": 46,
      "outputs": [
        {
          "output_type": "stream",
          "name": "stdout",
          "text": [
            "                col  percent_missing\n",
            "Area Code     Y2016         0.000000\n",
            "Area          Y2016         0.000000\n",
            "Item Code     Y2016         0.000000\n",
            "Item          Y2016         0.000000\n",
            "Element Code  Y2016         0.000000\n",
            "Element       Y2016         0.000000\n",
            "Unit          Y2016         0.000000\n",
            "Y2014         Y2016         2.607354\n",
            "Y2015         Y2016         2.540078\n",
            "Y2016         Y2016         2.518747\n",
            "Y2017         Y2016         2.471162\n",
            "Y2018         Y2016         2.356300\n"
          ]
        }
      ]
    },
    {
      "cell_type": "code",
      "source": [
        "#highest correlation with ‘Element Code\n",
        "data2 = food_data.corr()*1000\n",
        "print(data2)"
      ],
      "metadata": {
        "colab": {
          "base_uri": "https://localhost:8080/"
        },
        "id": "cLIe34nMnur9",
        "outputId": "1a02c092-a729-4d8f-d165-276354177eb9"
      },
      "execution_count": 51,
      "outputs": [
        {
          "output_type": "stream",
          "name": "stdout",
          "text": [
            "                Area Code    Item Code  ...        Y2017        Y2018\n",
            "Area Code     1000.000000    -5.159100  ...     5.005781     5.665404\n",
            "Item Code       -5.159100  1000.000000  ...    21.494393    21.313687\n",
            "Element Code    -0.208598   -24.683274  ...    24.254008    24.278572\n",
            "Y2014            6.164110    21.722078  ...   995.229841   994.871665\n",
            "Y2015            5.471656    20.857375  ...   988.047870   988.208455\n",
            "Y2016            5.247136    20.109134  ...   992.784628   992.756674\n",
            "Y2017            5.005781    21.494393  ...  1000.000000   998.103271\n",
            "Y2018            5.665404    21.313687  ...   998.103271  1000.000000\n",
            "\n",
            "[8 rows x 8 columns]\n"
          ]
        }
      ]
    },
    {
      "cell_type": "code",
      "source": [
        "# highest sum of Import Quantity\n",
        "food_data.groupby('Element')['Y2017'].sum()"
      ],
      "metadata": {
        "colab": {
          "base_uri": "https://localhost:8080/"
        },
        "id": "LXOYNWB_pKbL",
        "outputId": "85648a77-e736-41d3-daa9-cde71e296944"
      },
      "execution_count": 59,
      "outputs": [
        {
          "output_type": "execute_result",
          "data": {
            "text/plain": [
              "Element\n",
              "Domestic supply quantity                  2088198.10\n",
              "Export Quantity                            182338.80\n",
              "Fat supply quantity (g/capita/day)          10253.84\n",
              "Feed                                       223705.68\n",
              "Food                                      1258888.28\n",
              "Food supply (kcal/capita/day)              454681.00\n",
              "Food supply quantity (kg/capita/yr)         48690.04\n",
              "Import Quantity                            294559.09\n",
              "Losses                                     160614.00\n",
              "Other uses (non-food)                       91645.97\n",
              "Processing                                 292836.00\n",
              "Production                                2030056.89\n",
              "Protein supply quantity (g/capita/day)      11842.45\n",
              "Residuals                                   35500.00\n",
              "Seed                                        24870.14\n",
              "Stock Variation                             54316.91\n",
              "Total Population - Both sexes             1112641.00\n",
              "Tourist consumption                            91.00\n",
              "Name: Y2017, dtype: float64"
            ]
          },
          "metadata": {},
          "execution_count": 59
        }
      ]
    },
    {
      "cell_type": "code",
      "source": [
        "#total number of the sum of Production in 2014\n",
        "food_data.groupby('Element')['Y2014'].sum()\n"
      ],
      "metadata": {
        "colab": {
          "base_uri": "https://localhost:8080/"
        },
        "id": "sQDme-FtqAGd",
        "outputId": "5a6233fb-1fb8-44b0-ae7d-536393dd580b"
      },
      "execution_count": 60,
      "outputs": [
        {
          "output_type": "execute_result",
          "data": {
            "text/plain": [
              "Element\n",
              "Domestic supply quantity                  1996716.35\n",
              "Export Quantity                            150020.64\n",
              "Fat supply quantity (g/capita/day)          10225.56\n",
              "Feed                                       216927.89\n",
              "Food                                      1212332.49\n",
              "Food supply (kcal/capita/day)              454257.00\n",
              "Food supply quantity (kg/capita/yr)         49650.63\n",
              "Import Quantity                            274144.48\n",
              "Losses                                     153223.00\n",
              "Other uses (non-food)                       78718.13\n",
              "Processing                                 282923.00\n",
              "Production                                1931287.75\n",
              "Protein supply quantity (g/capita/day)      11836.46\n",
              "Residuals                                   30149.00\n",
              "Seed                                        21922.92\n",
              "Stock Variation                             58749.83\n",
              "Total Population - Both sexes             1031585.00\n",
              "Tourist consumption                           416.00\n",
              "Name: Y2014, dtype: float64"
            ]
          },
          "metadata": {},
          "execution_count": 60
        }
      ]
    },
    {
      "cell_type": "code",
      "source": [
        "#elements had the highest sum in 2018\n",
        "food_data.groupby('Element')['Y2018'].sum()"
      ],
      "metadata": {
        "colab": {
          "base_uri": "https://localhost:8080/"
        },
        "id": "mfYHCseFqZuJ",
        "outputId": "4af042ff-8b57-48ca-dcdb-f60fecf3e020"
      },
      "execution_count": 61,
      "outputs": [
        {
          "output_type": "execute_result",
          "data": {
            "text/plain": [
              "Element\n",
              "Domestic supply quantity                  2161192.10\n",
              "Export Quantity                            181594.80\n",
              "Fat supply quantity (g/capita/day)          10258.69\n",
              "Feed                                       233489.68\n",
              "Food                                      1303841.28\n",
              "Food supply (kcal/capita/day)              455261.00\n",
              "Food supply quantity (kg/capita/yr)         49056.85\n",
              "Import Quantity                            287997.09\n",
              "Losses                                     163902.00\n",
              "Other uses (non-food)                       91300.97\n",
              "Processing                                 308429.00\n",
              "Production                                2075072.89\n",
              "Protein supply quantity (g/capita/day)      11833.56\n",
              "Residuals                                   34864.00\n",
              "Seed                                        25263.14\n",
              "Stock Variation                             20577.91\n",
              "Total Population - Both sexes             1140605.00\n",
              "Tourist consumption                            90.00\n",
              "Name: Y2018, dtype: float64"
            ]
          },
          "metadata": {},
          "execution_count": 61
        }
      ]
    },
    {
      "cell_type": "code",
      "source": [
        "#elements had the 3rd lowest sum in 2018\n",
        "food_data.groupby('Element')['Y2018'].sum('Lowest')"
      ],
      "metadata": {
        "colab": {
          "base_uri": "https://localhost:8080/"
        },
        "id": "GTk_gelsq06b",
        "outputId": "5ae5edb0-5b93-4d23-d042-241e8c3ec830"
      },
      "execution_count": 68,
      "outputs": [
        {
          "output_type": "execute_result",
          "data": {
            "text/plain": [
              "Element\n",
              "Domestic supply quantity                  2161192.10\n",
              "Export Quantity                            181594.80\n",
              "Fat supply quantity (g/capita/day)          10258.69\n",
              "Feed                                       233489.68\n",
              "Food                                      1303841.28\n",
              "Food supply (kcal/capita/day)              455261.00\n",
              "Food supply quantity (kg/capita/yr)         49056.85\n",
              "Import Quantity                            287997.09\n",
              "Losses                                     163902.00\n",
              "Other uses (non-food)                       91300.97\n",
              "Processing                                 308429.00\n",
              "Production                                2075072.89\n",
              "Protein supply quantity (g/capita/day)      11833.56\n",
              "Residuals                                   34864.00\n",
              "Seed                                        25263.14\n",
              "Stock Variation                             20577.91\n",
              "Total Population - Both sexes             1140605.00\n",
              "Tourist consumption                            90.00\n",
              "Name: Y2018, dtype: float64"
            ]
          },
          "metadata": {},
          "execution_count": 68
        }
      ]
    },
    {
      "cell_type": "code",
      "source": [
        "#otal Import Quantity in Algeria in 2018\n",
        "food_data.groupby('Element')['Area','Y2018'].count()"
      ],
      "metadata": {
        "colab": {
          "base_uri": "https://localhost:8080/",
          "height": 700
        },
        "id": "F9frdKQ4ri2y",
        "outputId": "33b9e532-9cbd-4096-8c98-e9caea18b9f5"
      },
      "execution_count": 101,
      "outputs": [
        {
          "output_type": "stream",
          "name": "stderr",
          "text": [
            "/usr/local/lib/python3.7/dist-packages/ipykernel_launcher.py:2: FutureWarning: Indexing with multiple keys (implicitly converted to a tuple of keys) will be deprecated, use a list instead.\n",
            "  \n"
          ]
        },
        {
          "output_type": "execute_result",
          "data": {
            "text/html": [
              "\n",
              "  <div id=\"df-7e2daded-e7c6-4a3d-9845-a4f15f35ee11\">\n",
              "    <div class=\"colab-df-container\">\n",
              "      <div>\n",
              "<style scoped>\n",
              "    .dataframe tbody tr th:only-of-type {\n",
              "        vertical-align: middle;\n",
              "    }\n",
              "\n",
              "    .dataframe tbody tr th {\n",
              "        vertical-align: top;\n",
              "    }\n",
              "\n",
              "    .dataframe thead th {\n",
              "        text-align: right;\n",
              "    }\n",
              "</style>\n",
              "<table border=\"1\" class=\"dataframe\">\n",
              "  <thead>\n",
              "    <tr style=\"text-align: right;\">\n",
              "      <th></th>\n",
              "      <th>Area</th>\n",
              "      <th>Y2018</th>\n",
              "    </tr>\n",
              "    <tr>\n",
              "      <th>Element</th>\n",
              "      <th></th>\n",
              "      <th></th>\n",
              "    </tr>\n",
              "  </thead>\n",
              "  <tbody>\n",
              "    <tr>\n",
              "      <th>Domestic supply quantity</th>\n",
              "      <td>5295</td>\n",
              "      <td>5256</td>\n",
              "    </tr>\n",
              "    <tr>\n",
              "      <th>Export Quantity</th>\n",
              "      <td>4403</td>\n",
              "      <td>3646</td>\n",
              "    </tr>\n",
              "    <tr>\n",
              "      <th>Fat supply quantity (g/capita/day)</th>\n",
              "      <td>5023</td>\n",
              "      <td>4987</td>\n",
              "    </tr>\n",
              "    <tr>\n",
              "      <th>Feed</th>\n",
              "      <td>1319</td>\n",
              "      <td>1225</td>\n",
              "    </tr>\n",
              "    <tr>\n",
              "      <th>Food</th>\n",
              "      <td>4941</td>\n",
              "      <td>4913</td>\n",
              "    </tr>\n",
              "    <tr>\n",
              "      <th>Food supply (kcal/capita/day)</th>\n",
              "      <td>5014</td>\n",
              "      <td>4969</td>\n",
              "    </tr>\n",
              "    <tr>\n",
              "      <th>Food supply quantity (kg/capita/yr)</th>\n",
              "      <td>4905</td>\n",
              "      <td>4877</td>\n",
              "    </tr>\n",
              "    <tr>\n",
              "      <th>Import Quantity</th>\n",
              "      <td>5139</td>\n",
              "      <td>4945</td>\n",
              "    </tr>\n",
              "    <tr>\n",
              "      <th>Losses</th>\n",
              "      <td>2009</td>\n",
              "      <td>2008</td>\n",
              "    </tr>\n",
              "    <tr>\n",
              "      <th>Other uses (non-food)</th>\n",
              "      <td>1732</td>\n",
              "      <td>1655</td>\n",
              "    </tr>\n",
              "    <tr>\n",
              "      <th>Processing</th>\n",
              "      <td>2010</td>\n",
              "      <td>2003</td>\n",
              "    </tr>\n",
              "    <tr>\n",
              "      <th>Production</th>\n",
              "      <td>3881</td>\n",
              "      <td>3846</td>\n",
              "    </tr>\n",
              "    <tr>\n",
              "      <th>Protein supply quantity (g/capita/day)</th>\n",
              "      <td>5023</td>\n",
              "      <td>4986</td>\n",
              "    </tr>\n",
              "    <tr>\n",
              "      <th>Residuals</th>\n",
              "      <td>4655</td>\n",
              "      <td>4616</td>\n",
              "    </tr>\n",
              "    <tr>\n",
              "      <th>Seed</th>\n",
              "      <td>762</td>\n",
              "      <td>758</td>\n",
              "    </tr>\n",
              "    <tr>\n",
              "      <th>Stock Variation</th>\n",
              "      <td>4232</td>\n",
              "      <td>4217</td>\n",
              "    </tr>\n",
              "    <tr>\n",
              "      <th>Total Population - Both sexes</th>\n",
              "      <td>45</td>\n",
              "      <td>45</td>\n",
              "    </tr>\n",
              "    <tr>\n",
              "      <th>Tourist consumption</th>\n",
              "      <td>555</td>\n",
              "      <td>555</td>\n",
              "    </tr>\n",
              "  </tbody>\n",
              "</table>\n",
              "</div>\n",
              "      <button class=\"colab-df-convert\" onclick=\"convertToInteractive('df-7e2daded-e7c6-4a3d-9845-a4f15f35ee11')\"\n",
              "              title=\"Convert this dataframe to an interactive table.\"\n",
              "              style=\"display:none;\">\n",
              "        \n",
              "  <svg xmlns=\"http://www.w3.org/2000/svg\" height=\"24px\"viewBox=\"0 0 24 24\"\n",
              "       width=\"24px\">\n",
              "    <path d=\"M0 0h24v24H0V0z\" fill=\"none\"/>\n",
              "    <path d=\"M18.56 5.44l.94 2.06.94-2.06 2.06-.94-2.06-.94-.94-2.06-.94 2.06-2.06.94zm-11 1L8.5 8.5l.94-2.06 2.06-.94-2.06-.94L8.5 2.5l-.94 2.06-2.06.94zm10 10l.94 2.06.94-2.06 2.06-.94-2.06-.94-.94-2.06-.94 2.06-2.06.94z\"/><path d=\"M17.41 7.96l-1.37-1.37c-.4-.4-.92-.59-1.43-.59-.52 0-1.04.2-1.43.59L10.3 9.45l-7.72 7.72c-.78.78-.78 2.05 0 2.83L4 21.41c.39.39.9.59 1.41.59.51 0 1.02-.2 1.41-.59l7.78-7.78 2.81-2.81c.8-.78.8-2.07 0-2.86zM5.41 20L4 18.59l7.72-7.72 1.47 1.35L5.41 20z\"/>\n",
              "  </svg>\n",
              "      </button>\n",
              "      \n",
              "  <style>\n",
              "    .colab-df-container {\n",
              "      display:flex;\n",
              "      flex-wrap:wrap;\n",
              "      gap: 12px;\n",
              "    }\n",
              "\n",
              "    .colab-df-convert {\n",
              "      background-color: #E8F0FE;\n",
              "      border: none;\n",
              "      border-radius: 50%;\n",
              "      cursor: pointer;\n",
              "      display: none;\n",
              "      fill: #1967D2;\n",
              "      height: 32px;\n",
              "      padding: 0 0 0 0;\n",
              "      width: 32px;\n",
              "    }\n",
              "\n",
              "    .colab-df-convert:hover {\n",
              "      background-color: #E2EBFA;\n",
              "      box-shadow: 0px 1px 2px rgba(60, 64, 67, 0.3), 0px 1px 3px 1px rgba(60, 64, 67, 0.15);\n",
              "      fill: #174EA6;\n",
              "    }\n",
              "\n",
              "    [theme=dark] .colab-df-convert {\n",
              "      background-color: #3B4455;\n",
              "      fill: #D2E3FC;\n",
              "    }\n",
              "\n",
              "    [theme=dark] .colab-df-convert:hover {\n",
              "      background-color: #434B5C;\n",
              "      box-shadow: 0px 1px 3px 1px rgba(0, 0, 0, 0.15);\n",
              "      filter: drop-shadow(0px 1px 2px rgba(0, 0, 0, 0.3));\n",
              "      fill: #FFFFFF;\n",
              "    }\n",
              "  </style>\n",
              "\n",
              "      <script>\n",
              "        const buttonEl =\n",
              "          document.querySelector('#df-7e2daded-e7c6-4a3d-9845-a4f15f35ee11 button.colab-df-convert');\n",
              "        buttonEl.style.display =\n",
              "          google.colab.kernel.accessAllowed ? 'block' : 'none';\n",
              "\n",
              "        async function convertToInteractive(key) {\n",
              "          const element = document.querySelector('#df-7e2daded-e7c6-4a3d-9845-a4f15f35ee11');\n",
              "          const dataTable =\n",
              "            await google.colab.kernel.invokeFunction('convertToInteractive',\n",
              "                                                     [key], {});\n",
              "          if (!dataTable) return;\n",
              "\n",
              "          const docLinkHtml = 'Like what you see? Visit the ' +\n",
              "            '<a target=\"_blank\" href=https://colab.research.google.com/notebooks/data_table.ipynb>data table notebook</a>'\n",
              "            + ' to learn more about interactive tables.';\n",
              "          element.innerHTML = '';\n",
              "          dataTable['output_type'] = 'display_data';\n",
              "          await google.colab.output.renderOutput(dataTable, element);\n",
              "          const docLink = document.createElement('div');\n",
              "          docLink.innerHTML = docLinkHtml;\n",
              "          element.appendChild(docLink);\n",
              "        }\n",
              "      </script>\n",
              "    </div>\n",
              "  </div>\n",
              "  "
            ],
            "text/plain": [
              "                                        Area  Y2018\n",
              "Element                                            \n",
              "Domestic supply quantity                5295   5256\n",
              "Export Quantity                         4403   3646\n",
              "Fat supply quantity (g/capita/day)      5023   4987\n",
              "Feed                                    1319   1225\n",
              "Food                                    4941   4913\n",
              "Food supply (kcal/capita/day)           5014   4969\n",
              "Food supply quantity (kg/capita/yr)     4905   4877\n",
              "Import Quantity                         5139   4945\n",
              "Losses                                  2009   2008\n",
              "Other uses (non-food)                   1732   1655\n",
              "Processing                              2010   2003\n",
              "Production                              3881   3846\n",
              "Protein supply quantity (g/capita/day)  5023   4986\n",
              "Residuals                               4655   4616\n",
              "Seed                                     762    758\n",
              "Stock Variation                         4232   4217\n",
              "Total Population - Both sexes             45     45\n",
              "Tourist consumption                      555    555"
            ]
          },
          "metadata": {},
          "execution_count": 101
        }
      ]
    },
    {
      "cell_type": "code",
      "source": [
        "#total number of unique countries in the dataset\n",
        "len(food_data['Area'].unique().tolist())"
      ],
      "metadata": {
        "colab": {
          "base_uri": "https://localhost:8080/"
        },
        "id": "as4RE9b8tHNf",
        "outputId": "938153c8-4c14-4d23-923e-f3bdf8daeba2"
      },
      "execution_count": 90,
      "outputs": [
        {
          "output_type": "execute_result",
          "data": {
            "text/plain": [
              "49"
            ]
          },
          "metadata": {},
          "execution_count": 90
        }
      ]
    }
  ]
}