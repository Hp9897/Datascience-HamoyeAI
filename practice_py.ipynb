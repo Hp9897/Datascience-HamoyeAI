{
  "nbformat": 4,
  "nbformat_minor": 0,
  "metadata": {
    "colab": {
      "name": "practice py.ipynb",
      "provenance": [],
      "collapsed_sections": [],
      "authorship_tag": "ABX9TyPdc9+CyV3WUfCPOy0AI5j1",
      "include_colab_link": true
    },
    "kernelspec": {
      "name": "python3",
      "display_name": "Python 3"
    },
    "language_info": {
      "name": "python"
    }
  },
  "cells": [
    {
      "cell_type": "markdown",
      "metadata": {
        "id": "view-in-github",
        "colab_type": "text"
      },
      "source": [
        "<a href=\"https://colab.research.google.com/github/Hp9897/Datascience-HamoyeAI/blob/main/practice_py.ipynb\" target=\"_parent\"><img src=\"https://colab.research.google.com/assets/colab-badge.svg\" alt=\"Open In Colab\"/></a>"
      ]
    },
    {
      "cell_type": "code",
      "execution_count": 38,
      "metadata": {
        "colab": {
          "base_uri": "https://localhost:8080/"
        },
        "id": "L2OxvQVi4wxa",
        "outputId": "acca16ef-557f-48cd-d180-c4946759d4ec"
      },
      "outputs": [
        {
          "output_type": "stream",
          "name": "stdout",
          "text": [
            "       Area Code      Area  Item Code  ...     Y2016     Y2017     Y2018\n",
            "0              4   Algeria       2501  ...  40551.00  41389.00  42228.00\n",
            "1              4   Algeria       2501  ...      0.00      0.00      0.00\n",
            "2              4   Algeria       2901  ...   3372.00   3341.00   3322.00\n",
            "3              4   Algeria       2901  ...     94.72     92.82     91.83\n",
            "4              4   Algeria       2901  ...     77.40     80.19     77.28\n",
            "...          ...       ...        ...  ...       ...       ...       ...\n",
            "60938        181  Zimbabwe       2899  ...     33.00     19.00     16.00\n",
            "60939        181  Zimbabwe       2899  ...      2.35      1.33      1.08\n",
            "60940        181  Zimbabwe       2899  ...      3.00      1.00      1.00\n",
            "60941        181  Zimbabwe       2899  ...      0.08      0.04      0.04\n",
            "60942        181  Zimbabwe       2899  ...      0.03      0.02      0.01\n",
            "\n",
            "[60943 rows x 12 columns]\n"
          ]
        },
        {
          "output_type": "execute_result",
          "data": {
            "text/plain": [
              "Element\n",
              "Domestic supply quantity                  5295\n",
              "Export Quantity                           4403\n",
              "Fat supply quantity (g/capita/day)        5023\n",
              "Feed                                      1319\n",
              "Food                                      4941\n",
              "Food supply (kcal/capita/day)             5014\n",
              "Food supply quantity (kg/capita/yr)       4905\n",
              "Import Quantity                           5139\n",
              "Losses                                    2009\n",
              "Other uses (non-food)                     1732\n",
              "Processing                                2010\n",
              "Production                                3881\n",
              "Protein supply quantity (g/capita/day)    5023\n",
              "Residuals                                 4655\n",
              "Seed                                       762\n",
              "Stock Variation                           4232\n",
              "Total Population - Both sexes               45\n",
              "Tourist consumption                        555\n",
              "Name: Element, dtype: int64"
            ]
          },
          "metadata": {},
          "execution_count": 38
        }
      ],
      "source": [
        "from matplotlib import pyplot as plt\n",
        "import seaborn as sns \n",
        "import pandas as pd\n",
        "url= \"https://github.com/HamoyeHQ/HDSC-Introduction-to-Python-for-machine-learning/files/7768140/FoodBalanceSheets_E_Africa_NOFLAG.csv\"\n",
        "\n",
        "food_data= pd.read_csv(url,  sep= \",\",encoding= 'latin-1')\n",
        "food_data.describe(include= \"all\")\n",
        "food_data.dropna().reset_index(drop=True)\n",
        "print(food_data)\n",
        "food_data.loc[1:6500]\n",
        "food_data.iloc[1:6500]\n",
        "food_data.isnull().sum()\n",
        "food_data.groupby('Area')['Area'].count()\n",
        "food_data.groupby('Area').first()\n",
        "food_data[['Element']]= food_data[['Element']].fillna(value= \"abc\")\n",
        "food_data.isnull().sum()\n",
        "food_data.groupby('Element')['Element'].count()"
      ]
    },
    {
      "cell_type": "code",
      "source": [
        "food_data1= food_data.iloc[0:18000].reset_index(drop=True)\n",
        "food_data2= food_data.iloc[18000:].reset_index(drop=True)\n",
        "\n",
        "len(food_data)==(len(food_data1)+ len(food_data2))\n",
        "pd.merge(food_data1,food_data2, how= \"inner\")\n",
        "pd.merge(food_data1,food_data2, how= \"outer\")\n",
        "pd.merge(food_data1,food_data2, how= \"left\")\n",
        "pd.merge(food_data1,food_data2, how= \"right\")"
      ],
      "metadata": {
        "colab": {
          "base_uri": "https://localhost:8080/",
          "height": 423
        },
        "id": "iv2bThWz-xDa",
        "outputId": "9f30f20f-8fe7-46e7-90f2-01ffca6d691f"
      },
      "execution_count": 49,
      "outputs": [
        {
          "output_type": "execute_result",
          "data": {
            "text/html": [
              "\n",
              "  <div id=\"df-f7636295-dcc7-4fcb-96e8-323634849cb9\">\n",
              "    <div class=\"colab-df-container\">\n",
              "      <div>\n",
              "<style scoped>\n",
              "    .dataframe tbody tr th:only-of-type {\n",
              "        vertical-align: middle;\n",
              "    }\n",
              "\n",
              "    .dataframe tbody tr th {\n",
              "        vertical-align: top;\n",
              "    }\n",
              "\n",
              "    .dataframe thead th {\n",
              "        text-align: right;\n",
              "    }\n",
              "</style>\n",
              "<table border=\"1\" class=\"dataframe\">\n",
              "  <thead>\n",
              "    <tr style=\"text-align: right;\">\n",
              "      <th></th>\n",
              "      <th>Area Code</th>\n",
              "      <th>Area</th>\n",
              "      <th>Item Code</th>\n",
              "      <th>Item</th>\n",
              "      <th>Element Code</th>\n",
              "      <th>Element</th>\n",
              "      <th>Unit</th>\n",
              "      <th>Y2014</th>\n",
              "      <th>Y2015</th>\n",
              "      <th>Y2016</th>\n",
              "      <th>Y2017</th>\n",
              "      <th>Y2018</th>\n",
              "    </tr>\n",
              "  </thead>\n",
              "  <tbody>\n",
              "    <tr>\n",
              "      <th>0</th>\n",
              "      <td>209</td>\n",
              "      <td>Eswatini</td>\n",
              "      <td>2911</td>\n",
              "      <td>Pulses</td>\n",
              "      <td>5301</td>\n",
              "      <td>Domestic supply quantity</td>\n",
              "      <td>1000 tonnes</td>\n",
              "      <td>7.00</td>\n",
              "      <td>6.00</td>\n",
              "      <td>6.00</td>\n",
              "      <td>8.00</td>\n",
              "      <td>7.00</td>\n",
              "    </tr>\n",
              "    <tr>\n",
              "      <th>1</th>\n",
              "      <td>209</td>\n",
              "      <td>Eswatini</td>\n",
              "      <td>2911</td>\n",
              "      <td>Pulses</td>\n",
              "      <td>5521</td>\n",
              "      <td>Feed</td>\n",
              "      <td>1000 tonnes</td>\n",
              "      <td>2.00</td>\n",
              "      <td>1.00</td>\n",
              "      <td>1.00</td>\n",
              "      <td>2.00</td>\n",
              "      <td>2.00</td>\n",
              "    </tr>\n",
              "    <tr>\n",
              "      <th>2</th>\n",
              "      <td>209</td>\n",
              "      <td>Eswatini</td>\n",
              "      <td>2911</td>\n",
              "      <td>Pulses</td>\n",
              "      <td>5527</td>\n",
              "      <td>Seed</td>\n",
              "      <td>1000 tonnes</td>\n",
              "      <td>0.00</td>\n",
              "      <td>0.00</td>\n",
              "      <td>0.00</td>\n",
              "      <td>0.00</td>\n",
              "      <td>0.00</td>\n",
              "    </tr>\n",
              "    <tr>\n",
              "      <th>3</th>\n",
              "      <td>209</td>\n",
              "      <td>Eswatini</td>\n",
              "      <td>2911</td>\n",
              "      <td>Pulses</td>\n",
              "      <td>5123</td>\n",
              "      <td>Losses</td>\n",
              "      <td>1000 tonnes</td>\n",
              "      <td>1.00</td>\n",
              "      <td>1.00</td>\n",
              "      <td>1.00</td>\n",
              "      <td>1.00</td>\n",
              "      <td>1.00</td>\n",
              "    </tr>\n",
              "    <tr>\n",
              "      <th>4</th>\n",
              "      <td>209</td>\n",
              "      <td>Eswatini</td>\n",
              "      <td>2911</td>\n",
              "      <td>Pulses</td>\n",
              "      <td>5170</td>\n",
              "      <td>Residuals</td>\n",
              "      <td>1000 tonnes</td>\n",
              "      <td>0.00</td>\n",
              "      <td>0.00</td>\n",
              "      <td>0.00</td>\n",
              "      <td>0.00</td>\n",
              "      <td>0.00</td>\n",
              "    </tr>\n",
              "    <tr>\n",
              "      <th>...</th>\n",
              "      <td>...</td>\n",
              "      <td>...</td>\n",
              "      <td>...</td>\n",
              "      <td>...</td>\n",
              "      <td>...</td>\n",
              "      <td>...</td>\n",
              "      <td>...</td>\n",
              "      <td>...</td>\n",
              "      <td>...</td>\n",
              "      <td>...</td>\n",
              "      <td>...</td>\n",
              "      <td>...</td>\n",
              "    </tr>\n",
              "    <tr>\n",
              "      <th>42938</th>\n",
              "      <td>181</td>\n",
              "      <td>Zimbabwe</td>\n",
              "      <td>2899</td>\n",
              "      <td>Miscellaneous</td>\n",
              "      <td>5142</td>\n",
              "      <td>Food</td>\n",
              "      <td>1000 tonnes</td>\n",
              "      <td>42.00</td>\n",
              "      <td>46.00</td>\n",
              "      <td>33.00</td>\n",
              "      <td>19.00</td>\n",
              "      <td>16.00</td>\n",
              "    </tr>\n",
              "    <tr>\n",
              "      <th>42939</th>\n",
              "      <td>181</td>\n",
              "      <td>Zimbabwe</td>\n",
              "      <td>2899</td>\n",
              "      <td>Miscellaneous</td>\n",
              "      <td>645</td>\n",
              "      <td>Food supply quantity (kg/capita/yr)</td>\n",
              "      <td>kg</td>\n",
              "      <td>3.06</td>\n",
              "      <td>3.33</td>\n",
              "      <td>2.35</td>\n",
              "      <td>1.33</td>\n",
              "      <td>1.08</td>\n",
              "    </tr>\n",
              "    <tr>\n",
              "      <th>42940</th>\n",
              "      <td>181</td>\n",
              "      <td>Zimbabwe</td>\n",
              "      <td>2899</td>\n",
              "      <td>Miscellaneous</td>\n",
              "      <td>664</td>\n",
              "      <td>Food supply (kcal/capita/day)</td>\n",
              "      <td>kcal/capita/day</td>\n",
              "      <td>3.00</td>\n",
              "      <td>4.00</td>\n",
              "      <td>3.00</td>\n",
              "      <td>1.00</td>\n",
              "      <td>1.00</td>\n",
              "    </tr>\n",
              "    <tr>\n",
              "      <th>42941</th>\n",
              "      <td>181</td>\n",
              "      <td>Zimbabwe</td>\n",
              "      <td>2899</td>\n",
              "      <td>Miscellaneous</td>\n",
              "      <td>674</td>\n",
              "      <td>Protein supply quantity (g/capita/day)</td>\n",
              "      <td>g/capita/day</td>\n",
              "      <td>0.10</td>\n",
              "      <td>0.11</td>\n",
              "      <td>0.08</td>\n",
              "      <td>0.04</td>\n",
              "      <td>0.04</td>\n",
              "    </tr>\n",
              "    <tr>\n",
              "      <th>42942</th>\n",
              "      <td>181</td>\n",
              "      <td>Zimbabwe</td>\n",
              "      <td>2899</td>\n",
              "      <td>Miscellaneous</td>\n",
              "      <td>684</td>\n",
              "      <td>Fat supply quantity (g/capita/day)</td>\n",
              "      <td>g/capita/day</td>\n",
              "      <td>0.04</td>\n",
              "      <td>0.05</td>\n",
              "      <td>0.03</td>\n",
              "      <td>0.02</td>\n",
              "      <td>0.01</td>\n",
              "    </tr>\n",
              "  </tbody>\n",
              "</table>\n",
              "<p>42943 rows × 12 columns</p>\n",
              "</div>\n",
              "      <button class=\"colab-df-convert\" onclick=\"convertToInteractive('df-f7636295-dcc7-4fcb-96e8-323634849cb9')\"\n",
              "              title=\"Convert this dataframe to an interactive table.\"\n",
              "              style=\"display:none;\">\n",
              "        \n",
              "  <svg xmlns=\"http://www.w3.org/2000/svg\" height=\"24px\"viewBox=\"0 0 24 24\"\n",
              "       width=\"24px\">\n",
              "    <path d=\"M0 0h24v24H0V0z\" fill=\"none\"/>\n",
              "    <path d=\"M18.56 5.44l.94 2.06.94-2.06 2.06-.94-2.06-.94-.94-2.06-.94 2.06-2.06.94zm-11 1L8.5 8.5l.94-2.06 2.06-.94-2.06-.94L8.5 2.5l-.94 2.06-2.06.94zm10 10l.94 2.06.94-2.06 2.06-.94-2.06-.94-.94-2.06-.94 2.06-2.06.94z\"/><path d=\"M17.41 7.96l-1.37-1.37c-.4-.4-.92-.59-1.43-.59-.52 0-1.04.2-1.43.59L10.3 9.45l-7.72 7.72c-.78.78-.78 2.05 0 2.83L4 21.41c.39.39.9.59 1.41.59.51 0 1.02-.2 1.41-.59l7.78-7.78 2.81-2.81c.8-.78.8-2.07 0-2.86zM5.41 20L4 18.59l7.72-7.72 1.47 1.35L5.41 20z\"/>\n",
              "  </svg>\n",
              "      </button>\n",
              "      \n",
              "  <style>\n",
              "    .colab-df-container {\n",
              "      display:flex;\n",
              "      flex-wrap:wrap;\n",
              "      gap: 12px;\n",
              "    }\n",
              "\n",
              "    .colab-df-convert {\n",
              "      background-color: #E8F0FE;\n",
              "      border: none;\n",
              "      border-radius: 50%;\n",
              "      cursor: pointer;\n",
              "      display: none;\n",
              "      fill: #1967D2;\n",
              "      height: 32px;\n",
              "      padding: 0 0 0 0;\n",
              "      width: 32px;\n",
              "    }\n",
              "\n",
              "    .colab-df-convert:hover {\n",
              "      background-color: #E2EBFA;\n",
              "      box-shadow: 0px 1px 2px rgba(60, 64, 67, 0.3), 0px 1px 3px 1px rgba(60, 64, 67, 0.15);\n",
              "      fill: #174EA6;\n",
              "    }\n",
              "\n",
              "    [theme=dark] .colab-df-convert {\n",
              "      background-color: #3B4455;\n",
              "      fill: #D2E3FC;\n",
              "    }\n",
              "\n",
              "    [theme=dark] .colab-df-convert:hover {\n",
              "      background-color: #434B5C;\n",
              "      box-shadow: 0px 1px 3px 1px rgba(0, 0, 0, 0.15);\n",
              "      filter: drop-shadow(0px 1px 2px rgba(0, 0, 0, 0.3));\n",
              "      fill: #FFFFFF;\n",
              "    }\n",
              "  </style>\n",
              "\n",
              "      <script>\n",
              "        const buttonEl =\n",
              "          document.querySelector('#df-f7636295-dcc7-4fcb-96e8-323634849cb9 button.colab-df-convert');\n",
              "        buttonEl.style.display =\n",
              "          google.colab.kernel.accessAllowed ? 'block' : 'none';\n",
              "\n",
              "        async function convertToInteractive(key) {\n",
              "          const element = document.querySelector('#df-f7636295-dcc7-4fcb-96e8-323634849cb9');\n",
              "          const dataTable =\n",
              "            await google.colab.kernel.invokeFunction('convertToInteractive',\n",
              "                                                     [key], {});\n",
              "          if (!dataTable) return;\n",
              "\n",
              "          const docLinkHtml = 'Like what you see? Visit the ' +\n",
              "            '<a target=\"_blank\" href=https://colab.research.google.com/notebooks/data_table.ipynb>data table notebook</a>'\n",
              "            + ' to learn more about interactive tables.';\n",
              "          element.innerHTML = '';\n",
              "          dataTable['output_type'] = 'display_data';\n",
              "          await google.colab.output.renderOutput(dataTable, element);\n",
              "          const docLink = document.createElement('div');\n",
              "          docLink.innerHTML = docLinkHtml;\n",
              "          element.appendChild(docLink);\n",
              "        }\n",
              "      </script>\n",
              "    </div>\n",
              "  </div>\n",
              "  "
            ],
            "text/plain": [
              "       Area Code      Area  Item Code  ...  Y2016  Y2017  Y2018\n",
              "0            209  Eswatini       2911  ...   6.00   8.00   7.00\n",
              "1            209  Eswatini       2911  ...   1.00   2.00   2.00\n",
              "2            209  Eswatini       2911  ...   0.00   0.00   0.00\n",
              "3            209  Eswatini       2911  ...   1.00   1.00   1.00\n",
              "4            209  Eswatini       2911  ...   0.00   0.00   0.00\n",
              "...          ...       ...        ...  ...    ...    ...    ...\n",
              "42938        181  Zimbabwe       2899  ...  33.00  19.00  16.00\n",
              "42939        181  Zimbabwe       2899  ...   2.35   1.33   1.08\n",
              "42940        181  Zimbabwe       2899  ...   3.00   1.00   1.00\n",
              "42941        181  Zimbabwe       2899  ...   0.08   0.04   0.04\n",
              "42942        181  Zimbabwe       2899  ...   0.03   0.02   0.01\n",
              "\n",
              "[42943 rows x 12 columns]"
            ]
          },
          "metadata": {},
          "execution_count": 49
        }
      ]
    },
    {
      "cell_type": "code",
      "source": [
        "food_data.duplicated().any()"
      ],
      "metadata": {
        "colab": {
          "base_uri": "https://localhost:8080/"
        },
        "id": "NbyWa7msAjo7",
        "outputId": "25bca933-552a-42e4-8ecd-18136f3fba65"
      },
      "execution_count": 55,
      "outputs": [
        {
          "output_type": "execute_result",
          "data": {
            "text/plain": [
              "False"
            ]
          },
          "metadata": {},
          "execution_count": 55
        }
      ]
    },
    {
      "cell_type": "code",
      "source": [
        "url= \"https://github.com/HamoyeHQ/HDSC-Introduction-to-Python-for-machine-learning/files/7768140/FoodBalanceSheets_E_Africa_NOFLAG.csv\"\n",
        "\n",
        "food_data= pd.read_csv(url,  sep= \",\",encoding= 'latin-1')\n",
        "food_data.describe(include= \"all\")\n",
        "food_data.groupby(\"Area\")\n",
        "plt.figure(figsize=(6,4))\n",
        "plt.xticks(rotation=90)\n",
        "food_data_df= pd.DataFrame ({\"Area\": [\"Ghana\",\"Uganda\",\"Zimbambe\",\"Guniea\",\"kenya\",\"Mali\",\"Madagaskar\"],\n",
        "                        'count':[1000,1456,1546,1659,1342,1235,1869]})\n",
        "sns.barplot(data= food_data_df, x= \"Area\",y = \"count\")"
      ],
      "metadata": {
        "colab": {
          "base_uri": "https://localhost:8080/",
          "height": 347
        },
        "id": "fDj1kUdDBlyX",
        "outputId": "8a664d5c-732e-4ad7-e914-c4fb8db15446"
      },
      "execution_count": 63,
      "outputs": [
        {
          "output_type": "execute_result",
          "data": {
            "text/plain": [
              "<matplotlib.axes._subplots.AxesSubplot at 0x7fd1372f1990>"
            ]
          },
          "metadata": {},
          "execution_count": 63
        },
        {
          "output_type": "display_data",
          "data": {
            "image/png": "[encoded data removed]",
            "text/plain": [
              "<Figure size 432x288 with 1 Axes>"
            ]
          },
          "metadata": {
            "needs_background": "light"
          }
        }
      ]
    },
    {
      "cell_type": "code",
      "source": [
        "food_data_df= pd.DataFrame ({\"Area\": [\"Ghana\",\"Uganda\",\"Zimbambe\",\"Guniea\",\"kenya\",\"Mali\",\"Madagaskar\"],\n",
        "                        'count':[10000,14506,12546,16459,13420,12355,18069]})\n",
        "a=sns.barplot(data= food_data_df, x= \"Area\",y = \"count\")\n",
        "a.set_yscale('log')\n",
        "a.set_ylim(1,19000)\n"
      ],
      "metadata": {
        "colab": {
          "base_uri": "https://localhost:8080/",
          "height": 296
        },
        "id": "5dX6OvKBERB7",
        "outputId": "c6b94de9-1274-476d-a3c3-d7639ec2250e"
      },
      "execution_count": 66,
      "outputs": [
        {
          "output_type": "execute_result",
          "data": {
            "text/plain": [
              "(1, 19000)"
            ]
          },
          "metadata": {},
          "execution_count": 66
        },
        {
          "output_type": "display_data",
          "data": {
            "image/png": "[encoded data removed]",
            "text/plain": [
              "<Figure size 432x288 with 1 Axes>"
            ]
          },
          "metadata": {
            "needs_background": "light"
          }
        }
      ]
    },
    {
      "cell_type": "code",
      "source": [
        "sample_food_data= food_data.sample(n= 6, random_state= 2)\n",
        "sns.regplot(x= sample_food_data['Element'], y= sample_food_data['Y2016'],fit_reg= False)"
      ],
      "metadata": {
        "colab": {
          "base_uri": "https://localhost:8080/",
          "height": 296
        },
        "id": "mwOxPenhE97j",
        "outputId": "de8e21bf-8e04-45b1-c17c-e68e57bef26b"
      },
      "execution_count": 74,
      "outputs": [
        {
          "output_type": "execute_result",
          "data": {
            "text/plain": [
              "<matplotlib.axes._subplots.AxesSubplot at 0x7fd137b70a10>"
            ]
          },
          "metadata": {},
          "execution_count": 74
        },
        {
          "output_type": "display_data",
          "data": {
            "image/png": "[encoded data removed]",
            "text/plain": [
              "<Figure size 432x288 with 1 Axes>"
            ]
          },
          "metadata": {
            "needs_background": "light"
          }
        }
      ]
    },
    {
      "cell_type": "code",
      "source": [
        "sns.boxplot(data= food_data, x= 'Item Code',y= 'Y2018',palette= ['m','g'])"
      ],
      "metadata": {
        "colab": {
          "base_uri": "https://localhost:8080/",
          "height": 296
        },
        "id": "8kf1YRy-GGkd",
        "outputId": "14dc34c3-c348-409d-e348-194840775fee"
      },
      "execution_count": 76,
      "outputs": [
        {
          "output_type": "execute_result",
          "data": {
            "text/plain": [
              "<matplotlib.axes._subplots.AxesSubplot at 0x7fd136855810>"
            ]
          },
          "metadata": {},
          "execution_count": 76
        },
        {
          "output_type": "display_data",
          "data": {
            "image/png": "[encoded data removed]",
            "text/plain": [
              "<Figure size 432x288 with 1 Axes>"
            ]
          },
          "metadata": {
            "needs_background": "light"
          }
        }
      ]
    },
    {
      "cell_type": "code",
      "source": [
        "sns.kdeplot(sample_food_data['Item Code'],shade= 'True',color= 'y')"
      ],
      "metadata": {
        "colab": {
          "base_uri": "https://localhost:8080/",
          "height": 296
        },
        "id": "fJkSbWMMGq4y",
        "outputId": "b626e472-ff54-4563-d65a-47a940473421"
      },
      "execution_count": 81,
      "outputs": [
        {
          "output_type": "execute_result",
          "data": {
            "text/plain": [
              "<matplotlib.axes._subplots.AxesSubplot at 0x7fd133ae1210>"
            ]
          },
          "metadata": {},
          "execution_count": 81
        },
        {
          "output_type": "display_data",
          "data": {
            "image/png": "[encoded data removed]",
            "text/plain": [
              "<Figure size 432x288 with 1 Axes>"
            ]
          },
          "metadata": {
            "needs_background": "light"
          }
        }
      ]
    },
    {
      "cell_type": "code",
      "source": [
        "\n",
        "food_data.groupby('Element')['Element'].sum()"
      ],
      "metadata": {
        "colab": {
          "base_uri": "https://localhost:8080/"
        },
        "id": "lj1g_DVWHKLO",
        "outputId": "f77246ec-92e4-40f5-a469-ce956b25a8a0"
      },
      "execution_count": 84,
      "outputs": [
        {
          "output_type": "execute_result",
          "data": {
            "text/plain": [
              "Element\n",
              "Domestic supply quantity                  Domestic supply quantityDomestic supply quanti...\n",
              "Export Quantity                           Export QuantityExport QuantityExport QuantityE...\n",
              "Fat supply quantity (g/capita/day)        Fat supply quantity (g/capita/day)Fat supply q...\n",
              "Feed                                      FeedFeedFeedFeedFeedFeedFeedFeedFeedFeedFeedFe...\n",
              "Food                                      FoodFoodFoodFoodFoodFoodFoodFoodFoodFoodFoodFo...\n",
              "Food supply (kcal/capita/day)             Food supply (kcal/capita/day)Food supply (kcal...\n",
              "Food supply quantity (kg/capita/yr)       Food supply quantity (kg/capita/yr)Food supply...\n",
              "Import Quantity                           Import QuantityImport QuantityImport QuantityI...\n",
              "Losses                                    LossesLossesLossesLossesLossesLossesLossesLoss...\n",
              "Other uses (non-food)                     Other uses (non-food)Other uses (non-food)Othe...\n",
              "Processing                                ProcessingProcessingProcessingProcessingProces...\n",
              "Production                                ProductionProductionProductionProductionProduc...\n",
              "Protein supply quantity (g/capita/day)    Protein supply quantity (g/capita/day)Protein ...\n",
              "Residuals                                 ResidualsResidualsResidualsResidualsResidualsR...\n",
              "Seed                                      SeedSeedSeedSeedSeedSeedSeedSeedSeedSeedSeedSe...\n",
              "Stock Variation                           Stock VariationStock VariationStock VariationS...\n",
              "Total Population - Both sexes             Total Population - Both sexesTotal Population ...\n",
              "Tourist consumption                       Tourist consumptionTourist consumptionTourist ...\n",
              "Name: Element, dtype: object"
            ]
          },
          "metadata": {},
          "execution_count": 84
        }
      ]
    }
  ]
}